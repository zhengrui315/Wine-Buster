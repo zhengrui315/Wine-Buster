{
 "cells": [
  {
   "cell_type": "code",
   "execution_count": 1,
   "metadata": {},
   "outputs": [],
   "source": [
    "\n",
    "from pytesseract import *\n",
    "import os\n",
    "import cv2\n",
    "from PIL import Image\n",
    "import matplotlib.pyplot as plt\n",
    "import pandas as pd\n",
    "pd.set_option('display.max_columns', None)\n",
    "\n",
    "\n",
    "import numpy as np\n",
    "import re\n",
    "from tqdm import tqdm\n",
    "import warnings\n",
    "warnings.filterwarnings('ignore')\n",
    "#from wine_catalog import *"
   ]
  },
  {
   "cell_type": "code",
   "execution_count": 2,
   "metadata": {},
   "outputs": [],
   "source": [
    "def img_df3(img):\n",
    "    # call tesseract function\n",
    "    out = image_to_data(img)\n",
    "\n",
    "    with open('tmp', \"w\") as f:\n",
    "        f.write(out)\n",
    "    # df = pd.read_csv('tmp.csv', sep=',', engine=\"python\")\n",
    "    df = pd.DataFrame.from_csv('tmp', sep='\\t')\n",
    "\n",
    "    # if the text is Null/None/Nan, drop the row\n",
    "    df = df[df.text.notnull()].reset_index(drop=True)\n",
    "    os.remove('tmp')\n",
    "\n",
    "    \n",
    "    ############### prices --> df1  ##################\n",
    "    # assume all float numbers are prices, select them out\n",
    "    tmp = df.text.apply(lambda x: bool(re.match(r\"\\d+\\.\\d{2}\", x)), 1)\n",
    "    df1 = df[tmp].reset_index()\n",
    "    # now the new dataframe \"df1\" has less rows, we still want to keep their indices in \"df\", the one from tesseract\n",
    "    df1 = df1.rename(columns={'index': 'old_index'})   \n",
    "\n",
    "    # Select only valid prices:\n",
    "    # What the code does here is to check there the x.x number comes together with another x.x number\n",
    "    # because it is very likely the prices we are interested don't come alone, in contrast to the prices \n",
    "    # in description\n",
    "    def check_neighbor_exist(i):\n",
    "        \"\"\" return whether there is another float number around it, this can be done by old_index \"\"\"\n",
    "        cur_old_index = df1.loc[i, \"old_index\"]\n",
    "        \n",
    "        # the \"old_index\" of the previous x.x number \n",
    "        prev_old_index = df1.loc[i - 1, \"old_index\"] if i != 0 else -2 \n",
    "        # here -2 can be any negative number, just to make sure \"prev, suc\" wouldn't be 1 when they shouldn't be\n",
    "        prev = cur_old_index - prev_old_index # check whether their \"old_index\" differ only by 1\n",
    "        \n",
    "        #  the \"old_index\" of the next x.x number \n",
    "        suc_old_index = df1.loc[i + 1, \"old_index\"] if i != len(df1) - 1 else -2\n",
    "        suc = suc_old_index - cur_old_index # check whether their \"old_index\" differ only by 1\n",
    "        if prev == 1 or suc == 1:\n",
    "            return True\n",
    "        else:\n",
    "            return False\n",
    "    \n",
    "    valid_ids = [i for i in df1.index if check_neighbor_exist(i)] # filter out prices in description\n",
    "    df1 = df1.iloc[valid_ids]\n",
    "    df1['begin'] = 0\n",
    "\n",
    "    \n",
    "    ################   wine No. --> df2  ###################\n",
    "    # select out all wine No., assuming they are always the first word on the same line, or \"word_num\" = 1\n",
    "    check = df.text.apply(lambda x: bool(re.match(r\"[0-9]+$\", x)), 1)\n",
    "    df2 = df[check].reset_index()\n",
    "    df2 = df2.rename(columns={'index': 'old_index'})\n",
    "\n",
    "    def check_first_word(i):\n",
    "        \"\"\" return whether it is the first word on the same line \"\"\"\n",
    "        return df2.loc[i, \"word_num\"] == 1\n",
    "\n",
    "    valid_ids = [i for i in df2.index if check_first_word(i)]\n",
    "    df2 = df2.iloc[valid_ids]\n",
    "    df2['begin'] = 1\n",
    "\n",
    "    \n",
    "    ################  concatenate --> df3  ##################\n",
    "    df3 = pd.concat([df1, df2]).sort_values('old_index')\n",
    "\n",
    "    return df, df3"
   ]
  },
  {
   "cell_type": "code",
   "execution_count": 3,
   "metadata": {},
   "outputs": [],
   "source": [
    "def table_reader(filename):\n",
    "    #filename = os.path.join(os.getcwd(), '../sample1/UCD_Lehmann_0922.jpg')\n",
    "    \n",
    "    ### (1) Read the image:\n",
    "    img = cv2.imread(filename)\n",
    "    # img1 = cv2.cvtColor(img, cv2.COLOR_BGR2GRAY)\n",
    "    # img2 = cv2.Laplacian(img, cv2.CV_64F)\n",
    "\n",
    "    ### (2) Find the box we want to crop and do the cropping\n",
    "    _, df3 = img_df3(img)\n",
    "    top, bottom = max(df3.top.min() - 100, 0), min(df3.top.max() + 100, 6000)\n",
    "    #left, right = max(df3.left.min() - 100, 0), df3.left.max() + 100\n",
    "    # print(\"top, bottom\", top, bottom)\n",
    "    df, df3 = img_df3(img[top:bottom])\n",
    "    \n",
    "    \n",
    "    ### (3) add wine info. to Pandas DataFrame\n",
    "    res = []  # create an empty array, then we will append wine info to it as we iterate over all the items\n",
    "    for i in range(len(df3) - 1):\n",
    "        # for i in range(5):\n",
    "        if df3.iloc[i].begin == 1 and (i + 1 == len(df3) or df3.iloc[i + 1].begin == 0):\n",
    "            tmp = []\n",
    "\n",
    "            # add wine No.:\n",
    "            # it should be an integer number\n",
    "            tmp.append(df3.iloc[i].text)\n",
    "            start = i\n",
    "\n",
    "            # add prices:\n",
    "            # they takes the form x.x\n",
    "            prices = []\n",
    "            end = i + 1\n",
    "            while end < len(df3) - 1 and df3.iloc[end].begin == 0:\n",
    "                prices.append(df3.iloc[end].text)\n",
    "                end += 1\n",
    "            # print(\"end at:\", df3.iloc[end-1]['old_index'])\n",
    "\n",
    "            # add name:\n",
    "            s = ''\n",
    "            for k in range(df3.iloc[i]['old_index'] + 1, df3.iloc[i + 1]['old_index']):\n",
    "                # print(k, df.iloc[k].text)\n",
    "                s += ' ' + df.iloc[k].text\n",
    "            s = s.rstrip(' .')\n",
    "            tmp.append(s)\n",
    "\n",
    "            # add description:\n",
    "            s = ''\n",
    "            for k in range(df3.iloc[end - 1]['old_index'] + 1, df3.iloc[end]['old_index']):\n",
    "                s += ' ' + df.iloc[k].text\n",
    "            s = s.rstrip(' .')\n",
    "            tmp.append(s)\n",
    "            \n",
    "            # finally add them all to the list that we will use to create pandas dataframe\n",
    "            res.append(tmp + prices)\n",
    "    \n",
    "    # find the maximum length, it varies from images to images because the number of prices might be different\n",
    "    L = max([len(s) for s in res])\n",
    "    for s in res:\n",
    "        s += [''] * (L - len(s))\n",
    "    \n",
    "    # create the data frame and save it to .csv file\n",
    "    res_df = pd.DataFrame(np.array(res),columns=[\"No.\", \"Name\", \"Description\"] + [\"Prices\" + str(i+1) for i in range(L-3)])\n",
    "    res_df.to_csv(filename[:-3] + \"csv\")\n",
    "    \n",
    "    return res_df"
   ]
  },
  {
   "cell_type": "markdown",
   "metadata": {},
   "source": [
    "## Try on Single Image"
   ]
  },
  {
   "cell_type": "code",
   "execution_count": 5,
   "metadata": {},
   "outputs": [
    {
     "name": "stdout",
     "output_type": "stream",
     "text": [
      "top, bottom 2229 4980\n"
     ]
    },
    {
     "data": {
      "text/html": [
       "<div>\n",
       "<style scoped>\n",
       "    .dataframe tbody tr th:only-of-type {\n",
       "        vertical-align: middle;\n",
       "    }\n",
       "\n",
       "    .dataframe tbody tr th {\n",
       "        vertical-align: top;\n",
       "    }\n",
       "\n",
       "    .dataframe thead th {\n",
       "        text-align: right;\n",
       "    }\n",
       "</style>\n",
       "<table border=\"1\" class=\"dataframe\">\n",
       "  <thead>\n",
       "    <tr style=\"text-align: right;\">\n",
       "      <th></th>\n",
       "      <th>No.</th>\n",
       "      <th>Name</th>\n",
       "      <th>Description</th>\n",
       "      <th>Prices1</th>\n",
       "      <th>Prices2</th>\n",
       "    </tr>\n",
       "  </thead>\n",
       "  <tbody>\n",
       "    <tr>\n",
       "      <th>0</th>\n",
       "      <td>209</td>\n",
       "      <td>VOLNAY, CLOS CHAMPANS</td>\n",
       "      <td>Estate—bottled by Marquis d’Angerville. We sh...</td>\n",
       "      <td>4.79</td>\n",
       "      <td>51.75</td>\n",
       "    </tr>\n",
       "    <tr>\n",
       "      <th>1</th>\n",
       "      <td>403</td>\n",
       "      <td>CHAPELLE-CHAMBERTIN</td>\n",
       "      <td>Estate-bottled, P. Damoy. In a blind tasting,...</td>\n",
       "      <td>5.99</td>\n",
       "      <td>64.70</td>\n",
       "    </tr>\n",
       "    <tr>\n",
       "      <th>2</th>\n",
       "      <td>608</td>\n",
       "      <td>VOSNE ROMANEE, LES REIGNOTS</td>\n",
       "      <td>This velvety, soft Vosne-Romanée. from the ou...</td>\n",
       "      <td>6.75</td>\n",
       "      <td>72.90</td>\n",
       "    </tr>\n",
       "    <tr>\n",
       "      <th>3</th>\n",
       "      <td>199</td>\n",
       "      <td>CORTON BRESSANDES</td>\n",
       "      <td>Estate-bottled, Prince de Merode. A remarkabl...</td>\n",
       "      <td>7.39</td>\n",
       "      <td>79.80</td>\n",
       "    </tr>\n",
       "    <tr>\n",
       "      <th>4</th>\n",
       "      <td>775</td>\n",
       "      <td>CLOS DE VOUGEOT</td>\n",
       "      <td>Estate-bottled by R. Engel. Because of the si...</td>\n",
       "      <td>7.39</td>\n",
       "      <td>79.80</td>\n",
       "    </tr>\n",
       "  </tbody>\n",
       "</table>\n",
       "</div>"
      ],
      "text/plain": [
       "   No.                          Name  \\\n",
       "0  209         VOLNAY, CLOS CHAMPANS   \n",
       "1  403           CHAPELLE-CHAMBERTIN   \n",
       "2  608   VOSNE ROMANEE, LES REIGNOTS   \n",
       "3  199             CORTON BRESSANDES   \n",
       "4  775               CLOS DE VOUGEOT   \n",
       "\n",
       "                                         Description Prices1 Prices2  \n",
       "0   Estate—bottled by Marquis d’Angerville. We sh...    4.79   51.75  \n",
       "1   Estate-bottled, P. Damoy. In a blind tasting,...    5.99   64.70  \n",
       "2   This velvety, soft Vosne-Romanée. from the ou...    6.75   72.90  \n",
       "3   Estate-bottled, Prince de Merode. A remarkabl...    7.39   79.80  \n",
       "4   Estate-bottled by R. Engel. Because of the si...    7.39   79.80  "
      ]
     },
     "execution_count": 5,
     "metadata": {},
     "output_type": "execute_result"
    }
   ],
   "source": [
    "filename = os.path.join(os.getcwd(), '../sample1/UCD_Lehmann_0922.jpg')\n",
    "\n",
    "df = table_reader(filename)\n",
    "df.head()"
   ]
  },
  {
   "cell_type": "markdown",
   "metadata": {},
   "source": [
    "## Try on Multiple/All Images"
   ]
  },
  {
   "cell_type": "code",
   "execution_count": null,
   "metadata": {},
   "outputs": [
    {
     "name": "stderr",
     "output_type": "stream",
     "text": [
      "\r",
      "  0%|          | 0/100 [00:00<?, ?it/s]"
     ]
    },
    {
     "name": "stdout",
     "output_type": "stream",
     "text": [
      "\n",
      "Working on UCD_Lehmann_0006.jpg ......\n"
     ]
    },
    {
     "name": "stderr",
     "output_type": "stream",
     "text": [
      "\r",
      "  1%|          | 1/100 [00:26<44:16, 26.83s/it]"
     ]
    },
    {
     "name": "stdout",
     "output_type": "stream",
     "text": [
      "doesn't work for  UCD_Lehmann_0006.jpg\n",
      "\n",
      "Working on UCD_Lehmann_0007.jpg ......\n"
     ]
    },
    {
     "name": "stderr",
     "output_type": "stream",
     "text": [
      "\r",
      "  2%|▏         | 2/100 [00:41<37:53, 23.20s/it]"
     ]
    },
    {
     "name": "stdout",
     "output_type": "stream",
     "text": [
      "doesn't work for  UCD_Lehmann_0007.jpg\n",
      "\n",
      "Working on UCD_Lehmann_0015.jpg ......\n"
     ]
    },
    {
     "name": "stderr",
     "output_type": "stream",
     "text": [
      "\r",
      "  3%|▎         | 3/100 [01:18<44:18, 27.40s/it]"
     ]
    },
    {
     "name": "stdout",
     "output_type": "stream",
     "text": [
      "   No.                                       Name  \\\n",
      "0  842            CHATEAU HANTEILLAN (Haut Medoc)   \n",
      "1  325   CHATEAU TEILLAC (Puisseguin-St. Emilion]   \n",
      "2  311                   CHATEAU POTENSAC (Medoc)   \n",
      "3  848    CHATEAU COUTELIN MERVILLE (St. Estephe]   \n",
      "4  359            CHATEAU PICQUE-CAILLOU (Graves)   \n",
      "\n",
      "                                         Description Prices1 Prices2 Prices3  \\\n",
      "0   This very wine was selected by a tasting pane...    1.99   21.50           \n",
      "1   The fruit and softness of the St. Emilion are...    1.99   21.50           \n",
      "2           Chateau-bottled, lovely, soft, ready now    1.99   21.50           \n",
      "3   A discovery—not far from Calon Segur and simi...    2.29   24.75           \n",
      "4   Entirely remarkable. Extraordinary example of...    2.79   30.15           \n",
      "\n",
      "  Prices4  \n",
      "0          \n",
      "1          \n",
      "2          \n",
      "3          \n",
      "4          \n",
      "\n",
      "Working on UCD_Lehmann_0029.jpg ......\n"
     ]
    },
    {
     "name": "stderr",
     "output_type": "stream",
     "text": [
      "\r",
      "  4%|▍         | 4/100 [01:30<36:04, 22.55s/it]"
     ]
    },
    {
     "name": "stdout",
     "output_type": "stream",
     "text": [
      "doesn't work for  UCD_Lehmann_0029.jpg\n",
      "\n",
      "Working on UCD_Lehmann_0033.jpg ......\n"
     ]
    },
    {
     "name": "stderr",
     "output_type": "stream",
     "text": [
      "\r",
      "  5%|▌         | 5/100 [01:45<32:14, 20.36s/it]"
     ]
    },
    {
     "name": "stdout",
     "output_type": "stream",
     "text": [
      "   No.                                        Name Description Prices1 Prices2\n",
      "0  603                    BEAUJOLAIS 1967, Nicolas                1.49   16.10\n",
      "1  801   BEAUIOLAIA VILLAGES, 1967, Vin de I’Annee                2.19   23.65\n",
      "2  789       CHENAS, 1966, Rt. Hon. Ernest Marples                2.19   23.65\n",
      "3  333     BROUILLY, 1966, Rt. Hon. Ernest Marples                2.19   24.97\n",
      "4  794      FLEURIE, 1966, Rt. Hon. Ernest Marples                2.85   32.49\n",
      "\n",
      "Working on UCD_Lehmann_0038.jpg ......\n"
     ]
    },
    {
     "name": "stderr",
     "output_type": "stream",
     "text": [
      "\r",
      "  6%|▌         | 6/100 [02:00<29:15, 18.68s/it]"
     ]
    },
    {
     "name": "stdout",
     "output_type": "stream",
     "text": [
      "doesn't work for  UCD_Lehmann_0038.jpg\n",
      "\n",
      "Working on UCD_Lehmann_0059.jpg ......\n"
     ]
    },
    {
     "name": "stderr",
     "output_type": "stream",
     "text": [
      "\r",
      "  7%|▋         | 7/100 [02:42<39:48, 25.68s/it]"
     ]
    },
    {
     "name": "stdout",
     "output_type": "stream",
     "text": [
      "doesn't work for  UCD_Lehmann_0059.jpg\n",
      "\n",
      "Working on UCD_Lehmann_0103.jpg ......\n"
     ]
    },
    {
     "name": "stderr",
     "output_type": "stream",
     "text": [
      "\r",
      "  8%|▊         | 8/100 [03:34<51:53, 33.84s/it]"
     ]
    },
    {
     "name": "stdout",
     "output_type": "stream",
     "text": [
      "doesn't work for  UCD_Lehmann_0103.jpg\n",
      "\n",
      "Working on UCD_Lehmann_0106.jpg ......\n"
     ]
    }
   ],
   "source": [
    "path = os.path.join('../sample1','')\n",
    "imgs = [img for img in os.listdir(path) if img.endswith('.jpg')]\n",
    "for img in tqdm(imgs):\n",
    "    print()\n",
    "    print(\"Working on %s ......\" %img)\n",
    "    file_path = os.path.join(os.getcwd(), '../sample1/',img)\n",
    "    try:\n",
    "        df = table_reader(file_path)\n",
    "        print(df.head())\n",
    "    except:\n",
    "        print(\"doesn't work for \", img)\n",
    "        continue"
   ]
  },
  {
   "cell_type": "code",
   "execution_count": null,
   "metadata": {},
   "outputs": [],
   "source": []
  }
 ],
 "metadata": {
  "kernelspec": {
   "display_name": "Python 3",
   "language": "python",
   "name": "python3"
  },
  "language_info": {
   "codemirror_mode": {
    "name": "ipython",
    "version": 3
   },
   "file_extension": ".py",
   "mimetype": "text/x-python",
   "name": "python",
   "nbconvert_exporter": "python",
   "pygments_lexer": "ipython3",
   "version": "3.6.4"
  }
 },
 "nbformat": 4,
 "nbformat_minor": 2
}
